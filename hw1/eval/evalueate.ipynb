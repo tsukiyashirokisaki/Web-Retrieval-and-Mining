{
 "cells": [
  {
   "cell_type": "code",
   "execution_count": 13,
   "metadata": {},
   "outputs": [],
   "source": [
    "def create_grid(num):\n",
    "    grid=[]\n",
    "    for i in range(num):\n",
    "        for j in range(num):\n",
    "            if i==0:\n",
    "                grid.append([j])\n",
    "            elif i==1:\n",
    "                grid.append([i,j])\n",
    "            elif i==2:\n",
    "                grid.append([(j+1)%num,(j+2)%num,(j+3)%num])\n",
    "                \n",
    "    return grid"
   ]
  },
  {
   "cell_type": "code",
   "execution_count": 24,
   "metadata": {},
   "outputs": [],
   "source": [
    "def create1(num):\n",
    "    return [[ele] for ele in range(num)]\n",
    "def create2(num):\n",
    "    app=[]\n",
    "    for i in range(num):\n",
    "        for j in range(i+1,num):\n",
    "            app.append([i,j])\n",
    "    return app\n",
    "def create3(num):\n",
    "    app=[]\n",
    "    for i in range(num):\n",
    "        for j in range(i+1,num):\n",
    "            for k in range(j+1,num):\n",
    "                app.append([i,j,k])\n",
    "    return app\n",
    "grid=create1(4)+create2(4)+create3(4)\n"
   ]
  },
  {
   "cell_type": "code",
   "execution_count": 29,
   "metadata": {},
   "outputs": [],
   "source": [
    "import numpy as np\n",
    "np.save(\"grid.npy\",grid+[[1,2,3,4]])"
   ]
  },
  {
   "cell_type": "code",
   "execution_count": 40,
   "metadata": {},
   "outputs": [
    {
     "data": {
      "text/plain": [
       "[0, 2]"
      ]
     },
     "execution_count": 40,
     "metadata": {},
     "output_type": "execute_result"
    }
   ],
   "source": [
    "np.load(\"grid.npy\",allow_pickle=1).tolist()[5]"
   ]
  },
  {
   "cell_type": "code",
   "execution_count": 1,
   "metadata": {},
   "outputs": [],
   "source": [
    "def MAP(truth,predict):\n",
    "    score=0.0\n",
    "    n=len(predict)\n",
    "    for i in range(n):\n",
    "        app_score=0.0\n",
    "        ite=1\n",
    "        for j,ele in enumerate(predict[i]):\n",
    "            if ele in truth[i]:\n",
    "                app_score+=ite/(j+1)\n",
    "                ite+=1\n",
    "        app_score/=len(truth[i])\n",
    "        score+=app_score\n",
    "    score/=len(predict)\n",
    "    return score"
   ]
  },
  {
   "cell_type": "code",
   "execution_count": 2,
   "metadata": {},
   "outputs": [],
   "source": [
    "import pandas as pd\n",
    "def readans(path):\n",
    "    df=pd.read_csv(path)\n",
    "    truth=[]\n",
    "    for i in range(len(df)):\n",
    "        app=[]\n",
    "        ret=df[\"retrieved_docs\"][i].split(\" \")\n",
    "        for ele in ret:\n",
    "            app.append(ele)\n",
    "        truth.append(app)\n",
    "    return truth"
   ]
  },
  {
   "cell_type": "code",
   "execution_count": 3,
   "metadata": {},
   "outputs": [
    {
     "name": "stdout",
     "output_type": "stream",
     "text": [
      "0.3512725546058879\n"
     ]
    }
   ],
   "source": [
    "import ml_metrics \n",
    "\n",
    "truth=readans(\"ans_trains.csv\")[-2]\n",
    "predict=readans(\"trains.csv\")[-2]\n",
    "print(ml_metrics.mapk(truth, predict, k=100))"
   ]
  },
  {
   "cell_type": "code",
   "execution_count": 24,
   "metadata": {},
   "outputs": [],
   "source": [
    "MAP(truth,predict)"
   ]
  },
  {
   "cell_type": "code",
   "execution_count": 4,
   "metadata": {},
   "outputs": [
    {
     "name": "stdout",
     "output_type": "stream",
     "text": [
      "0.7385079987461266\n"
     ]
    }
   ],
   "source": [
    "truth=readans(\"ans_train.csv\")\n",
    "predict=readans(\"train_long.csv\")\n",
    "print(ml_metrics.mapk(truth, predict, k=100))"
   ]
  },
  {
   "cell_type": "code",
   "execution_count": 6,
   "metadata": {},
   "outputs": [
    {
     "name": "stdout",
     "output_type": "stream",
     "text": [
      "0 17 0.7888516290793331\n",
      "1 21 0.8460957075751414\n",
      "2 17 0.7137327178993845\n",
      "3 9 0.9291666666666667\n",
      "4 14 0.9289111681968825\n",
      "5 44 0.37403476710345696\n",
      "6 34 0.8412168542126546\n",
      "7 26 0.833910492027752\n",
      "8 8 0.2745946455505279\n",
      "9 42 0.8545653391494658\n"
     ]
    }
   ],
   "source": [
    "for i in range(len(truth)):\n",
    "    print(i,len(truth[i]),ml_metrics.apk(truth[i], predict[i], k=100))"
   ]
  },
  {
   "cell_type": "code",
   "execution_count": 65,
   "metadata": {},
   "outputs": [
    {
     "data": {
      "text/plain": [
       "5"
      ]
     },
     "execution_count": 65,
     "metadata": {},
     "output_type": "execute_result"
    }
   ],
   "source": [
    "len(readans(\"ans_train.csv\")[5:])"
   ]
  },
  {
   "cell_type": "code",
   "execution_count": null,
   "metadata": {},
   "outputs": [],
   "source": []
  },
  {
   "cell_type": "code",
   "execution_count": null,
   "metadata": {},
   "outputs": [],
   "source": []
  }
 ],
 "metadata": {
  "kernelspec": {
   "display_name": "Python 3",
   "language": "python",
   "name": "python3"
  },
  "language_info": {
   "codemirror_mode": {
    "name": "ipython",
    "version": 3
   },
   "file_extension": ".py",
   "mimetype": "text/x-python",
   "name": "python",
   "nbconvert_exporter": "python",
   "pygments_lexer": "ipython3",
   "version": "3.7.4"
  }
 },
 "nbformat": 4,
 "nbformat_minor": 2
}
