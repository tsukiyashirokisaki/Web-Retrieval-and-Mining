{
 "cells": [
  {
   "cell_type": "code",
   "execution_count": 4,
   "metadata": {},
   "outputs": [],
   "source": [
    "import torch\n",
    "import torch.nn as nn\n",
    "import numpy as np\n",
    "import pandas as pd\n",
    "import random\n",
    "from func import loaddata,evaluate,preprocess,get_answer,MAP\n",
    "import os"
   ]
  },
  {
   "cell_type": "code",
   "execution_count": 5,
   "metadata": {},
   "outputs": [],
   "source": [
    "num_user,num_item,data=loaddata(path=\"data/train.csv\")\n",
    "#pos_train,pos_val,neg_val=preprocess(num_user,num_item,data)   \n",
    "#np.save(\"data/split.npy\",[pos_train,pos_val,neg_val])\n",
    "pos_train,pos_val,neg_val,val=np.load(\"data/split.npy\",allow_pickle=True)\n"
   ]
  },
  {
   "cell_type": "code",
   "execution_count": 6,
   "metadata": {},
   "outputs": [],
   "source": [
    "def writefile(dump,user,item,num_user,pos_train,pos_val):\n",
    "    answer=get_answer(user,item,num_user,pos_train.union(pos_val))\n",
    "    file=open(dump,\"w\")\n",
    "    file.write(\"UserId,ItemId\\n\")\n",
    "    for i in range(num_user):\n",
    "        file.write(\"%d,%s\\n\"%(i,\" \".join(answer[i])))\n",
    "    file.close()\n"
   ]
  },
  {
   "cell_type": "code",
   "execution_count": 19,
   "metadata": {},
   "outputs": [],
   "source": [
    "sig=nn.Sigmoid()\n",
    "pred=torch.zeros([num_user,num_item])\n",
    "#best_net=[\"model/32_0.432.pkl\",\"model/16_0.400.pkl\"]\n",
    "for net in os.listdir(\"select\"):\n",
    "    user,item=torch.load(\"select/\"+net)\n",
    "    pred+=sig(torch.matmul(user,item.T))\n",
    "    #answer=get_answer(user,item,num_user,pos_train)\n",
    "    #print(MAP(answer,pos_val,num_user,val))"
   ]
  },
  {
   "cell_type": "code",
   "execution_count": 22,
   "metadata": {},
   "outputs": [],
   "source": [
    "exclude=pos_train.union(pos_val)\n",
    "sort, indices = torch.sort(pred, dim=1,descending=True)\n",
    "del sort\n",
    "indices=indices.numpy()\n",
    "answer=np.empty([num_user,50])\n",
    "for i in range(num_user):\n",
    "    ite=0\n",
    "    for j,ele in enumerate(indices[i]):\n",
    "        if ite>=50:\n",
    "            break\n",
    "        elif (i,ele) not in exclude:\n",
    "            answer[i][ite]=ele\n",
    "            ite+=1\n",
    "answer=answer.astype(\"int\")"
   ]
  },
  {
   "cell_type": "code",
   "execution_count": 21,
   "metadata": {},
   "outputs": [
    {
     "name": "stdout",
     "output_type": "stream",
     "text": [
      "0.14833424298661638\n"
     ]
    }
   ],
   "source": [
    "print(MAP(answer,pos_val,num_user,val))"
   ]
  },
  {
   "cell_type": "code",
   "execution_count": 23,
   "metadata": {},
   "outputs": [],
   "source": [
    "answer=answer.astype(\"int\").astype(\"str\")\n",
    "dump=\"output/ensemble.csv\"\n",
    "file=open(dump,\"w\")\n",
    "file.write(\"UserId,ItemId\\n\")\n",
    "for i in range(num_user):\n",
    "    file.write(\"%d,%s\\n\"%(i,\" \".join(answer[i])))\n",
    "file.close()"
   ]
  },
  {
   "cell_type": "code",
   "execution_count": 27,
   "metadata": {},
   "outputs": [
    {
     "data": {
      "text/plain": [
       "True"
      ]
     },
     "execution_count": 27,
     "metadata": {},
     "output_type": "execute_result"
    }
   ],
   "source": [
    "(1,2) in set([(1,2),(3,4)])"
   ]
  },
  {
   "cell_type": "code",
   "execution_count": null,
   "metadata": {},
   "outputs": [],
   "source": []
  }
 ],
 "metadata": {
  "kernelspec": {
   "display_name": "Python 3",
   "language": "python",
   "name": "python3"
  },
  "language_info": {
   "codemirror_mode": {
    "name": "ipython",
    "version": 3
   },
   "file_extension": ".py",
   "mimetype": "text/x-python",
   "name": "python",
   "nbconvert_exporter": "python",
   "pygments_lexer": "ipython3",
   "version": "3.7.4"
  }
 },
 "nbformat": 4,
 "nbformat_minor": 2
}
